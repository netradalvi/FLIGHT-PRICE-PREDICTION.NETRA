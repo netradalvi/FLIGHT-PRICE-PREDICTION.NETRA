{
 "cells": [
  {
   "cell_type": "code",
   "execution_count": 14,
   "id": "ed4ef587",
   "metadata": {},
   "outputs": [],
   "source": [
    "# Importing Libraries/Dependencies\n",
    "import selenium\n",
    "import pandas as pd\n",
    "from selenium import webdriver\n",
    "from bs4 import BeautifulSoup\n",
    "import requests\n",
    "import time\n",
    "from selenium.common.exceptions import NoSuchElementException\n",
    "from selenium.webdriver.common.keys import Keys\n",
    "\n",
    "import warnings\n",
    "warnings.filterwarnings('ignore')"
   ]
  },
  {
   "cell_type": "code",
   "execution_count": 15,
   "id": "e7ab7421",
   "metadata": {},
   "outputs": [],
   "source": [
    "driver=webdriver.Chrome(r'C:\\Users\\User\\Downloads\\chromedriver_win32 (3)\\chromedriver.exe')# opening chrome driver"
   ]
  },
  {
   "cell_type": "code",
   "execution_count": 16,
   "id": "a19ca9f0",
   "metadata": {},
   "outputs": [],
   "source": [
    "\n",
    " driver.get(\"https://paytm.com/\")\n",
    "    #opening website from where we need to fetch data"
   ]
  },
  {
   "cell_type": "code",
   "execution_count": 17,
   "id": "19ab4bc5",
   "metadata": {},
   "outputs": [],
   "source": [
    "for i in driver.find_elements(By.XPATH,'/html/body/div[1]/div/section[4]/div/div/div/div[2]'):\n",
    "    i.click()"
   ]
  },
  {
   "cell_type": "code",
   "execution_count": 18,
   "id": "bffc4d73",
   "metadata": {},
   "outputs": [],
   "source": [
    "driver.get(\"https://paytm.com/flights/flightSearch/BLR-Bengaluru/PNQ-Pune/1/0/0/E/2022-02-26\")"
   ]
  },
  {
   "cell_type": "code",
   "execution_count": 19,
   "id": "808de848",
   "metadata": {},
   "outputs": [],
   "source": [
    "urls=[]\n",
    "sou=[\"BLR-Bengaluru\",\"CCU-Kolkata\"]# passing source location\n",
    "location = [\"DEL-Delhi\",\"PNQ-Pune\",\"MAA-Chennai\",\"HYD-Hyderabad\"] #passing destination \n",
    "# passing random date on which flight is schedule\n",
    "date_list=[\"2022-02-26\",\"2022-03-07\",\"2022-03-13\",\"2022-03-20\",\"2022-03-29\",\"2022-04-06\",\"2022-03-15\",\"2022-03-25\",\"2022-04-01\",\"2022-03-07\"]\n",
    "for i in range(0,2):\n",
    "    for j in range(0,4):\n",
    "            for k in range(0,10):\n",
    "                url=\"https://paytm.com/flights/flightSearch/\"+sou[i]+\"/\"+location[j]+\"/1/0/0/E/\"+date_list[k] #as url is a string we can manipulate it and make changes according to our needs\n",
    "                urls.append(url)"
   ]
  },
  {
   "cell_type": "code",
   "execution_count": 20,
   "id": "59048cbd",
   "metadata": {},
   "outputs": [
    {
     "data": {
      "text/plain": [
       "80"
      ]
     },
     "execution_count": 20,
     "metadata": {},
     "output_type": "execute_result"
    }
   ],
   "source": [
    "len(urls)#checking len of url how many url we have fetched"
   ]
  },
  {
   "cell_type": "code",
   "execution_count": 21,
   "id": "30fa20eb",
   "metadata": {},
   "outputs": [],
   "source": [
    "# making list of features i am going to fetch \n",
    "name=[]\n",
    "departure_time=[]\n",
    "arrival_time=[]\n",
    "dur=[]\n",
    "price=[]\n",
    "stop=[]\n",
    "place=[]\n",
    "date=[]\n",
    "for url in urls:\n",
    "    driver.get(url)\n",
    "    time.sleep(5)\n",
    "    \n",
    "    for k in driver.find_elements(By.XPATH,'//div[@class=\"_3H-S _1Eia\"]'):\n",
    "        name.append(k.text)\n",
    "            \n",
    "    for k in driver.find_elements(By.XPATH,'//div[@class=\"_3H-S\"]'):\n",
    "        departure_time.append(k.text)\n",
    "        \n",
    "    for i in driver.find_elements(By.XPATH,'//div[@class=\"_3H-S _1wD5\"]'):\n",
    "        arrival_time.append(i.text.split(\"\\n\")[0])\n",
    "        \n",
    "    for i in driver.find_elements(By.XPATH,'//div[@class=\"vY4t\"]'):\n",
    "        dur.append(i.text)\n",
    "        \n",
    "    for i in driver.find_elements(By.XPATH,'//div[@class=\"_1cxG\"]'):\n",
    "        price.append(int(i.text.replace(\",\",\"\")))\n",
    "        \n",
    "    for i in driver.find_elements(By.XPATH,'//div[@class=\"_7BOG\"]'):\n",
    "        stop.append(i.text.split()[0])\n",
    "        \n",
    "    for i in driver.find_elements(By.XPATH,'//div[@class=\"NqXj\"]'):\n",
    "        place.append(i.text)\n",
    "        \n",
    "    for i in range(0,len(driver.find_elements(By.XPATH,'//div[@class=\"_1cxG\"]'))):\n",
    "               date.append(url.split('/')[11])\n"
   ]
  },
  {
   "cell_type": "code",
   "execution_count": 22,
   "id": "c98105e5",
   "metadata": {},
   "outputs": [],
   "source": [
    "source=place[0::2]\n",
    "destination=place[1::2]\n"
   ]
  },
  {
   "cell_type": "code",
   "execution_count": 23,
   "id": "1e3aa04d",
   "metadata": {},
   "outputs": [
    {
     "name": "stdout",
     "output_type": "stream",
     "text": [
      "8277 8277 8277 8277 8277 8277 8277 8277\n"
     ]
    }
   ],
   "source": [
    "print(len(arrival_time),len(dur),len(price),len(name),len(departure_time),len(source),len(destination),len(date))"
   ]
  },
  {
   "cell_type": "code",
   "execution_count": 24,
   "id": "cb5756f4",
   "metadata": {},
   "outputs": [],
   "source": [
    "# this is the dataframe i have fetched from the above website\n",
    "flight=pd.DataFrame({\"Flight name\":name,\n",
    "                 \"Departure_time\":departure_time,\n",
    "                 \"Arrival_time\":arrival_time,\n",
    "                 \"Price\":price,\n",
    "                 \"Source\":source,\n",
    "                 \"Destination\":destination,\n",
    "                  \"Duration\":dur,\n",
    "                 \"No of stop\":stop,\n",
    "                 \"Date\":date})"
   ]
  },
  {
   "cell_type": "code",
   "execution_count": 25,
   "id": "5bff7259",
   "metadata": {},
   "outputs": [
    {
     "data": {
      "text/html": [
       "<div>\n",
       "<style scoped>\n",
       "    .dataframe tbody tr th:only-of-type {\n",
       "        vertical-align: middle;\n",
       "    }\n",
       "\n",
       "    .dataframe tbody tr th {\n",
       "        vertical-align: top;\n",
       "    }\n",
       "\n",
       "    .dataframe thead th {\n",
       "        text-align: right;\n",
       "    }\n",
       "</style>\n",
       "<table border=\"1\" class=\"dataframe\">\n",
       "  <thead>\n",
       "    <tr style=\"text-align: right;\">\n",
       "      <th></th>\n",
       "      <th>Flight name</th>\n",
       "      <th>Departure_time</th>\n",
       "      <th>Arrival_time</th>\n",
       "      <th>Price</th>\n",
       "      <th>Source</th>\n",
       "      <th>Destination</th>\n",
       "      <th>Duration</th>\n",
       "      <th>No of stop</th>\n",
       "      <th>Date</th>\n",
       "    </tr>\n",
       "  </thead>\n",
       "  <tbody>\n",
       "    <tr>\n",
       "      <th>0</th>\n",
       "      <td>Go First</td>\n",
       "      <td>21:55</td>\n",
       "      <td>00:50</td>\n",
       "      <td>7488</td>\n",
       "      <td>Bengaluru</td>\n",
       "      <td>Delhi</td>\n",
       "      <td>2h 55m</td>\n",
       "      <td>Non</td>\n",
       "      <td>2022-02-26</td>\n",
       "    </tr>\n",
       "    <tr>\n",
       "      <th>1</th>\n",
       "      <td>IndiGo</td>\n",
       "      <td>20:10</td>\n",
       "      <td>23:10</td>\n",
       "      <td>7488</td>\n",
       "      <td>Bengaluru</td>\n",
       "      <td>Delhi</td>\n",
       "      <td>3h</td>\n",
       "      <td>Non</td>\n",
       "      <td>2022-02-26</td>\n",
       "    </tr>\n",
       "    <tr>\n",
       "      <th>2</th>\n",
       "      <td>Vistara</td>\n",
       "      <td>21:10</td>\n",
       "      <td>23:45</td>\n",
       "      <td>7489</td>\n",
       "      <td>Bengaluru</td>\n",
       "      <td>Delhi</td>\n",
       "      <td>2h 35m</td>\n",
       "      <td>Non</td>\n",
       "      <td>2022-02-26</td>\n",
       "    </tr>\n",
       "    <tr>\n",
       "      <th>3</th>\n",
       "      <td>Vistara</td>\n",
       "      <td>19:40</td>\n",
       "      <td>22:25</td>\n",
       "      <td>7489</td>\n",
       "      <td>Bengaluru</td>\n",
       "      <td>Delhi</td>\n",
       "      <td>2h 45m</td>\n",
       "      <td>Non</td>\n",
       "      <td>2022-02-26</td>\n",
       "    </tr>\n",
       "    <tr>\n",
       "      <th>4</th>\n",
       "      <td>Air Asia</td>\n",
       "      <td>19:25</td>\n",
       "      <td>22:15</td>\n",
       "      <td>7489</td>\n",
       "      <td>Bengaluru</td>\n",
       "      <td>Delhi</td>\n",
       "      <td>2h 50m</td>\n",
       "      <td>Non</td>\n",
       "      <td>2022-02-26</td>\n",
       "    </tr>\n",
       "    <tr>\n",
       "      <th>...</th>\n",
       "      <td>...</td>\n",
       "      <td>...</td>\n",
       "      <td>...</td>\n",
       "      <td>...</td>\n",
       "      <td>...</td>\n",
       "      <td>...</td>\n",
       "      <td>...</td>\n",
       "      <td>...</td>\n",
       "      <td>...</td>\n",
       "    </tr>\n",
       "    <tr>\n",
       "      <th>8272</th>\n",
       "      <td>Vistara</td>\n",
       "      <td>10:15</td>\n",
       "      <td>20:55</td>\n",
       "      <td>18505</td>\n",
       "      <td>Kolkata</td>\n",
       "      <td>Hyderabad</td>\n",
       "      <td>10h 40m</td>\n",
       "      <td>2</td>\n",
       "      <td>2022-03-07</td>\n",
       "    </tr>\n",
       "    <tr>\n",
       "      <th>8273</th>\n",
       "      <td>Vistara</td>\n",
       "      <td>10:15</td>\n",
       "      <td>20:55</td>\n",
       "      <td>18505</td>\n",
       "      <td>Kolkata</td>\n",
       "      <td>Hyderabad</td>\n",
       "      <td>10h 40m</td>\n",
       "      <td>2</td>\n",
       "      <td>2022-03-07</td>\n",
       "    </tr>\n",
       "    <tr>\n",
       "      <th>8274</th>\n",
       "      <td>Vistara</td>\n",
       "      <td>15:20</td>\n",
       "      <td>22:55</td>\n",
       "      <td>18879</td>\n",
       "      <td>Kolkata</td>\n",
       "      <td>Hyderabad</td>\n",
       "      <td>7h 35m</td>\n",
       "      <td>1</td>\n",
       "      <td>2022-03-07</td>\n",
       "    </tr>\n",
       "    <tr>\n",
       "      <th>8275</th>\n",
       "      <td>Vistara</td>\n",
       "      <td>10:25</td>\n",
       "      <td>19:55</td>\n",
       "      <td>20075</td>\n",
       "      <td>Kolkata</td>\n",
       "      <td>Hyderabad</td>\n",
       "      <td>9h 30m</td>\n",
       "      <td>2</td>\n",
       "      <td>2022-03-07</td>\n",
       "    </tr>\n",
       "    <tr>\n",
       "      <th>8276</th>\n",
       "      <td>Vistara</td>\n",
       "      <td>10:25</td>\n",
       "      <td>22:55</td>\n",
       "      <td>20075</td>\n",
       "      <td>Kolkata</td>\n",
       "      <td>Hyderabad</td>\n",
       "      <td>12h 30m</td>\n",
       "      <td>2</td>\n",
       "      <td>2022-03-07</td>\n",
       "    </tr>\n",
       "  </tbody>\n",
       "</table>\n",
       "<p>8277 rows × 9 columns</p>\n",
       "</div>"
      ],
      "text/plain": [
       "     Flight name Departure_time Arrival_time  Price     Source Destination  \\\n",
       "0       Go First          21:55        00:50   7488  Bengaluru       Delhi   \n",
       "1         IndiGo          20:10        23:10   7488  Bengaluru       Delhi   \n",
       "2        Vistara          21:10        23:45   7489  Bengaluru       Delhi   \n",
       "3        Vistara          19:40        22:25   7489  Bengaluru       Delhi   \n",
       "4       Air Asia          19:25        22:15   7489  Bengaluru       Delhi   \n",
       "...          ...            ...          ...    ...        ...         ...   \n",
       "8272     Vistara          10:15        20:55  18505    Kolkata   Hyderabad   \n",
       "8273     Vistara          10:15        20:55  18505    Kolkata   Hyderabad   \n",
       "8274     Vistara          15:20        22:55  18879    Kolkata   Hyderabad   \n",
       "8275     Vistara          10:25        19:55  20075    Kolkata   Hyderabad   \n",
       "8276     Vistara          10:25        22:55  20075    Kolkata   Hyderabad   \n",
       "\n",
       "     Duration No of stop        Date  \n",
       "0      2h 55m        Non  2022-02-26  \n",
       "1          3h        Non  2022-02-26  \n",
       "2      2h 35m        Non  2022-02-26  \n",
       "3      2h 45m        Non  2022-02-26  \n",
       "4      2h 50m        Non  2022-02-26  \n",
       "...       ...        ...         ...  \n",
       "8272  10h 40m          2  2022-03-07  \n",
       "8273  10h 40m          2  2022-03-07  \n",
       "8274   7h 35m          1  2022-03-07  \n",
       "8275   9h 30m          2  2022-03-07  \n",
       "8276  12h 30m          2  2022-03-07  \n",
       "\n",
       "[8277 rows x 9 columns]"
      ]
     },
     "execution_count": 25,
     "metadata": {},
     "output_type": "execute_result"
    }
   ],
   "source": [
    "flight"
   ]
  },
  {
   "cell_type": "code",
   "execution_count": 26,
   "id": "48c44a0d",
   "metadata": {},
   "outputs": [],
   "source": [
    "flight.to_csv(\"flight_fare.csv\")#saving dataframe to csv format"
   ]
  },
  {
   "cell_type": "code",
   "execution_count": null,
   "id": "3bd8e019",
   "metadata": {},
   "outputs": [],
   "source": []
  }
 ],
 "metadata": {
  "kernelspec": {
   "display_name": "Python 3 (ipykernel)",
   "language": "python",
   "name": "python3"
  },
  "language_info": {
   "codemirror_mode": {
    "name": "ipython",
    "version": 3
   },
   "file_extension": ".py",
   "mimetype": "text/x-python",
   "name": "python",
   "nbconvert_exporter": "python",
   "pygments_lexer": "ipython3",
   "version": "3.9.12"
  }
 },
 "nbformat": 4,
 "nbformat_minor": 5
}
